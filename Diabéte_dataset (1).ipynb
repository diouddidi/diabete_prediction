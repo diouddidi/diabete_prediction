{
 "cells": [
  {
   "cell_type": "code",
   "execution_count": 1,
   "id": "30f440cc-b603-4ed1-879c-cdc8f5fc84d0",
   "metadata": {},
   "outputs": [],
   "source": [
    "import pandas as pd\n",
    "import seaborn as sns\n",
    "sns.set_style('whitegrid') \n",
    "import matplotlib.pyplot as plt \n",
    "import matplotlib.ticker as ticker \n",
    "import plotly.express as px \n",
    "import plotly.graph_objects as go \n",
    "import plotly.io as pio \n",
    "import plotly.colors as colors \n",
    "from plotly.subplots import make_subplots\n",
    "from sklearn.preprocessing import StandardScaler, OneHotEncoder,LabelEncoder,MinMaxScaler"
   ]
  },
  {
   "cell_type": "code",
   "execution_count": 2,
   "id": "45faf4ba-c024-4499-b5ef-ae7cae586508",
   "metadata": {},
   "outputs": [],
   "source": [
    "data= pd.read_csv(\"file_download.csv\")"
   ]
  },
  {
   "cell_type": "code",
   "execution_count": 3,
   "id": "7df66da5-7347-45a6-89ff-3c81278b90e7",
   "metadata": {},
   "outputs": [
    {
     "data": {
      "text/html": [
       "<div>\n",
       "<style scoped>\n",
       "    .dataframe tbody tr th:only-of-type {\n",
       "        vertical-align: middle;\n",
       "    }\n",
       "\n",
       "    .dataframe tbody tr th {\n",
       "        vertical-align: top;\n",
       "    }\n",
       "\n",
       "    .dataframe thead th {\n",
       "        text-align: right;\n",
       "    }\n",
       "</style>\n",
       "<table border=\"1\" class=\"dataframe\">\n",
       "  <thead>\n",
       "    <tr style=\"text-align: right;\">\n",
       "      <th></th>\n",
       "      <th>ID</th>\n",
       "      <th>No_Pation</th>\n",
       "      <th>Gender</th>\n",
       "      <th>AGE</th>\n",
       "      <th>Urea</th>\n",
       "      <th>Cr</th>\n",
       "      <th>HbA1c</th>\n",
       "      <th>Chol</th>\n",
       "      <th>TG</th>\n",
       "      <th>HDL</th>\n",
       "      <th>LDL</th>\n",
       "      <th>VLDL</th>\n",
       "      <th>BMI</th>\n",
       "      <th>CLASS</th>\n",
       "      <th>age_range</th>\n",
       "    </tr>\n",
       "  </thead>\n",
       "  <tbody>\n",
       "    <tr>\n",
       "      <th>0</th>\n",
       "      <td>502</td>\n",
       "      <td>17975</td>\n",
       "      <td>F</td>\n",
       "      <td>50</td>\n",
       "      <td>4.7</td>\n",
       "      <td>46</td>\n",
       "      <td>4.9</td>\n",
       "      <td>4.2</td>\n",
       "      <td>0.9</td>\n",
       "      <td>2.4</td>\n",
       "      <td>1.4</td>\n",
       "      <td>0.5</td>\n",
       "      <td>24.0</td>\n",
       "      <td>N</td>\n",
       "      <td>(60-70)</td>\n",
       "    </tr>\n",
       "    <tr>\n",
       "      <th>1</th>\n",
       "      <td>735</td>\n",
       "      <td>34221</td>\n",
       "      <td>M</td>\n",
       "      <td>26</td>\n",
       "      <td>4.5</td>\n",
       "      <td>62</td>\n",
       "      <td>4.9</td>\n",
       "      <td>3.7</td>\n",
       "      <td>1.4</td>\n",
       "      <td>1.1</td>\n",
       "      <td>2.1</td>\n",
       "      <td>0.6</td>\n",
       "      <td>23.0</td>\n",
       "      <td>N</td>\n",
       "      <td>(20-30)</td>\n",
       "    </tr>\n",
       "    <tr>\n",
       "      <th>2</th>\n",
       "      <td>420</td>\n",
       "      <td>47975</td>\n",
       "      <td>F</td>\n",
       "      <td>50</td>\n",
       "      <td>4.7</td>\n",
       "      <td>46</td>\n",
       "      <td>4.9</td>\n",
       "      <td>4.2</td>\n",
       "      <td>0.9</td>\n",
       "      <td>2.4</td>\n",
       "      <td>1.4</td>\n",
       "      <td>0.5</td>\n",
       "      <td>24.0</td>\n",
       "      <td>N</td>\n",
       "      <td>(60-70)</td>\n",
       "    </tr>\n",
       "    <tr>\n",
       "      <th>3</th>\n",
       "      <td>680</td>\n",
       "      <td>87656</td>\n",
       "      <td>F</td>\n",
       "      <td>50</td>\n",
       "      <td>4.7</td>\n",
       "      <td>46</td>\n",
       "      <td>4.9</td>\n",
       "      <td>4.2</td>\n",
       "      <td>0.9</td>\n",
       "      <td>2.4</td>\n",
       "      <td>1.4</td>\n",
       "      <td>0.5</td>\n",
       "      <td>24.0</td>\n",
       "      <td>N</td>\n",
       "      <td>(60-70)</td>\n",
       "    </tr>\n",
       "    <tr>\n",
       "      <th>4</th>\n",
       "      <td>504</td>\n",
       "      <td>34223</td>\n",
       "      <td>M</td>\n",
       "      <td>33</td>\n",
       "      <td>7.1</td>\n",
       "      <td>46</td>\n",
       "      <td>4.9</td>\n",
       "      <td>4.9</td>\n",
       "      <td>1.0</td>\n",
       "      <td>0.8</td>\n",
       "      <td>2.0</td>\n",
       "      <td>0.4</td>\n",
       "      <td>21.0</td>\n",
       "      <td>N</td>\n",
       "      <td>(30-40)</td>\n",
       "    </tr>\n",
       "    <tr>\n",
       "      <th>...</th>\n",
       "      <td>...</td>\n",
       "      <td>...</td>\n",
       "      <td>...</td>\n",
       "      <td>...</td>\n",
       "      <td>...</td>\n",
       "      <td>...</td>\n",
       "      <td>...</td>\n",
       "      <td>...</td>\n",
       "      <td>...</td>\n",
       "      <td>...</td>\n",
       "      <td>...</td>\n",
       "      <td>...</td>\n",
       "      <td>...</td>\n",
       "      <td>...</td>\n",
       "      <td>...</td>\n",
       "    </tr>\n",
       "    <tr>\n",
       "      <th>995</th>\n",
       "      <td>200</td>\n",
       "      <td>454317</td>\n",
       "      <td>M</td>\n",
       "      <td>71</td>\n",
       "      <td>11.0</td>\n",
       "      <td>97</td>\n",
       "      <td>7.0</td>\n",
       "      <td>7.5</td>\n",
       "      <td>1.7</td>\n",
       "      <td>1.2</td>\n",
       "      <td>1.8</td>\n",
       "      <td>0.6</td>\n",
       "      <td>30.0</td>\n",
       "      <td>Y</td>\n",
       "      <td>(80-90)</td>\n",
       "    </tr>\n",
       "    <tr>\n",
       "      <th>996</th>\n",
       "      <td>671</td>\n",
       "      <td>876534</td>\n",
       "      <td>M</td>\n",
       "      <td>31</td>\n",
       "      <td>3.0</td>\n",
       "      <td>60</td>\n",
       "      <td>12.3</td>\n",
       "      <td>4.1</td>\n",
       "      <td>2.2</td>\n",
       "      <td>0.7</td>\n",
       "      <td>2.4</td>\n",
       "      <td>15.4</td>\n",
       "      <td>37.2</td>\n",
       "      <td>Y</td>\n",
       "      <td>(30-40)</td>\n",
       "    </tr>\n",
       "    <tr>\n",
       "      <th>997</th>\n",
       "      <td>669</td>\n",
       "      <td>87654</td>\n",
       "      <td>M</td>\n",
       "      <td>30</td>\n",
       "      <td>7.1</td>\n",
       "      <td>81</td>\n",
       "      <td>6.7</td>\n",
       "      <td>4.1</td>\n",
       "      <td>1.1</td>\n",
       "      <td>1.2</td>\n",
       "      <td>2.4</td>\n",
       "      <td>8.1</td>\n",
       "      <td>27.4</td>\n",
       "      <td>Y</td>\n",
       "      <td>(30-40)</td>\n",
       "    </tr>\n",
       "    <tr>\n",
       "      <th>998</th>\n",
       "      <td>99</td>\n",
       "      <td>24004</td>\n",
       "      <td>M</td>\n",
       "      <td>38</td>\n",
       "      <td>5.8</td>\n",
       "      <td>59</td>\n",
       "      <td>6.7</td>\n",
       "      <td>5.3</td>\n",
       "      <td>2.0</td>\n",
       "      <td>1.6</td>\n",
       "      <td>2.9</td>\n",
       "      <td>14.0</td>\n",
       "      <td>40.5</td>\n",
       "      <td>Y</td>\n",
       "      <td>(40-50)</td>\n",
       "    </tr>\n",
       "    <tr>\n",
       "      <th>999</th>\n",
       "      <td>248</td>\n",
       "      <td>24054</td>\n",
       "      <td>M</td>\n",
       "      <td>54</td>\n",
       "      <td>5.0</td>\n",
       "      <td>67</td>\n",
       "      <td>6.9</td>\n",
       "      <td>3.8</td>\n",
       "      <td>1.7</td>\n",
       "      <td>1.1</td>\n",
       "      <td>3.0</td>\n",
       "      <td>0.7</td>\n",
       "      <td>33.0</td>\n",
       "      <td>Y</td>\n",
       "      <td>(60-70)</td>\n",
       "    </tr>\n",
       "  </tbody>\n",
       "</table>\n",
       "<p>1000 rows × 15 columns</p>\n",
       "</div>"
      ],
      "text/plain": [
       "      ID  No_Pation Gender  AGE  Urea  Cr  HbA1c  Chol   TG  HDL  LDL  VLDL  \\\n",
       "0    502      17975      F   50   4.7  46    4.9   4.2  0.9  2.4  1.4   0.5   \n",
       "1    735      34221      M   26   4.5  62    4.9   3.7  1.4  1.1  2.1   0.6   \n",
       "2    420      47975      F   50   4.7  46    4.9   4.2  0.9  2.4  1.4   0.5   \n",
       "3    680      87656      F   50   4.7  46    4.9   4.2  0.9  2.4  1.4   0.5   \n",
       "4    504      34223      M   33   7.1  46    4.9   4.9  1.0  0.8  2.0   0.4   \n",
       "..   ...        ...    ...  ...   ...  ..    ...   ...  ...  ...  ...   ...   \n",
       "995  200     454317      M   71  11.0  97    7.0   7.5  1.7  1.2  1.8   0.6   \n",
       "996  671     876534      M   31   3.0  60   12.3   4.1  2.2  0.7  2.4  15.4   \n",
       "997  669      87654      M   30   7.1  81    6.7   4.1  1.1  1.2  2.4   8.1   \n",
       "998   99      24004      M   38   5.8  59    6.7   5.3  2.0  1.6  2.9  14.0   \n",
       "999  248      24054      M   54   5.0  67    6.9   3.8  1.7  1.1  3.0   0.7   \n",
       "\n",
       "      BMI CLASS age_range  \n",
       "0    24.0     N   (60-70)  \n",
       "1    23.0     N   (20-30)  \n",
       "2    24.0     N   (60-70)  \n",
       "3    24.0     N   (60-70)  \n",
       "4    21.0     N   (30-40)  \n",
       "..    ...   ...       ...  \n",
       "995  30.0     Y   (80-90)  \n",
       "996  37.2     Y   (30-40)  \n",
       "997  27.4     Y   (30-40)  \n",
       "998  40.5     Y   (40-50)  \n",
       "999  33.0     Y   (60-70)  \n",
       "\n",
       "[1000 rows x 15 columns]"
      ]
     },
     "execution_count": 3,
     "metadata": {},
     "output_type": "execute_result"
    }
   ],
   "source": [
    "data"
   ]
  },
  {
   "cell_type": "code",
   "execution_count": 4,
   "id": "7809e516-1bc9-4125-9401-73df2c6c5bbd",
   "metadata": {
    "scrolled": true
   },
   "outputs": [
    {
     "name": "stdout",
     "output_type": "stream",
     "text": [
      "<class 'pandas.core.frame.DataFrame'>\n",
      "RangeIndex: 1000 entries, 0 to 999\n",
      "Data columns (total 15 columns):\n",
      " #   Column     Non-Null Count  Dtype  \n",
      "---  ------     --------------  -----  \n",
      " 0   ID         1000 non-null   int64  \n",
      " 1   No_Pation  1000 non-null   int64  \n",
      " 2   Gender     1000 non-null   object \n",
      " 3   AGE        1000 non-null   int64  \n",
      " 4   Urea       1000 non-null   float64\n",
      " 5   Cr         1000 non-null   int64  \n",
      " 6   HbA1c      1000 non-null   float64\n",
      " 7   Chol       1000 non-null   float64\n",
      " 8   TG         1000 non-null   float64\n",
      " 9   HDL        1000 non-null   float64\n",
      " 10  LDL        1000 non-null   float64\n",
      " 11  VLDL       1000 non-null   float64\n",
      " 12  BMI        1000 non-null   float64\n",
      " 13  CLASS      1000 non-null   object \n",
      " 14  age_range  1000 non-null   object \n",
      "dtypes: float64(8), int64(4), object(3)\n",
      "memory usage: 117.3+ KB\n"
     ]
    }
   ],
   "source": [
    "data.info()"
   ]
  },
  {
   "cell_type": "code",
   "execution_count": 5,
   "id": "9ef3a594-51fb-4b05-afa9-3991d2388780",
   "metadata": {},
   "outputs": [
    {
     "data": {
      "text/html": [
       "<div>\n",
       "<style scoped>\n",
       "    .dataframe tbody tr th:only-of-type {\n",
       "        vertical-align: middle;\n",
       "    }\n",
       "\n",
       "    .dataframe tbody tr th {\n",
       "        vertical-align: top;\n",
       "    }\n",
       "\n",
       "    .dataframe thead th {\n",
       "        text-align: right;\n",
       "    }\n",
       "</style>\n",
       "<table border=\"1\" class=\"dataframe\">\n",
       "  <thead>\n",
       "    <tr style=\"text-align: right;\">\n",
       "      <th></th>\n",
       "      <th>ID</th>\n",
       "      <th>No_Pation</th>\n",
       "      <th>AGE</th>\n",
       "      <th>Urea</th>\n",
       "      <th>Cr</th>\n",
       "      <th>HbA1c</th>\n",
       "      <th>Chol</th>\n",
       "      <th>TG</th>\n",
       "      <th>HDL</th>\n",
       "      <th>LDL</th>\n",
       "      <th>VLDL</th>\n",
       "      <th>BMI</th>\n",
       "    </tr>\n",
       "  </thead>\n",
       "  <tbody>\n",
       "    <tr>\n",
       "      <th>count</th>\n",
       "      <td>1000.000000</td>\n",
       "      <td>1.000000e+03</td>\n",
       "      <td>1000.000000</td>\n",
       "      <td>1000.000000</td>\n",
       "      <td>1000.000000</td>\n",
       "      <td>1000.000000</td>\n",
       "      <td>1000.000000</td>\n",
       "      <td>1000.000000</td>\n",
       "      <td>1000.000000</td>\n",
       "      <td>1000.000000</td>\n",
       "      <td>1000.000000</td>\n",
       "      <td>1000.000000</td>\n",
       "    </tr>\n",
       "    <tr>\n",
       "      <th>mean</th>\n",
       "      <td>340.500000</td>\n",
       "      <td>2.705514e+05</td>\n",
       "      <td>53.528000</td>\n",
       "      <td>5.124743</td>\n",
       "      <td>68.943000</td>\n",
       "      <td>8.281160</td>\n",
       "      <td>4.862820</td>\n",
       "      <td>2.349610</td>\n",
       "      <td>1.204750</td>\n",
       "      <td>2.609790</td>\n",
       "      <td>1.854700</td>\n",
       "      <td>29.578020</td>\n",
       "    </tr>\n",
       "    <tr>\n",
       "      <th>std</th>\n",
       "      <td>240.397673</td>\n",
       "      <td>3.380758e+06</td>\n",
       "      <td>8.799241</td>\n",
       "      <td>2.935165</td>\n",
       "      <td>59.984747</td>\n",
       "      <td>2.534003</td>\n",
       "      <td>1.301738</td>\n",
       "      <td>1.401176</td>\n",
       "      <td>0.660414</td>\n",
       "      <td>1.115102</td>\n",
       "      <td>3.663599</td>\n",
       "      <td>4.962388</td>\n",
       "    </tr>\n",
       "    <tr>\n",
       "      <th>min</th>\n",
       "      <td>1.000000</td>\n",
       "      <td>1.230000e+02</td>\n",
       "      <td>20.000000</td>\n",
       "      <td>0.500000</td>\n",
       "      <td>6.000000</td>\n",
       "      <td>0.900000</td>\n",
       "      <td>0.000000</td>\n",
       "      <td>0.300000</td>\n",
       "      <td>0.200000</td>\n",
       "      <td>0.300000</td>\n",
       "      <td>0.100000</td>\n",
       "      <td>19.000000</td>\n",
       "    </tr>\n",
       "    <tr>\n",
       "      <th>25%</th>\n",
       "      <td>125.750000</td>\n",
       "      <td>2.406375e+04</td>\n",
       "      <td>51.000000</td>\n",
       "      <td>3.700000</td>\n",
       "      <td>48.000000</td>\n",
       "      <td>6.500000</td>\n",
       "      <td>4.000000</td>\n",
       "      <td>1.500000</td>\n",
       "      <td>0.900000</td>\n",
       "      <td>1.800000</td>\n",
       "      <td>0.700000</td>\n",
       "      <td>26.000000</td>\n",
       "    </tr>\n",
       "    <tr>\n",
       "      <th>50%</th>\n",
       "      <td>300.500000</td>\n",
       "      <td>3.439550e+04</td>\n",
       "      <td>55.000000</td>\n",
       "      <td>4.600000</td>\n",
       "      <td>60.000000</td>\n",
       "      <td>8.000000</td>\n",
       "      <td>4.800000</td>\n",
       "      <td>2.000000</td>\n",
       "      <td>1.100000</td>\n",
       "      <td>2.500000</td>\n",
       "      <td>0.900000</td>\n",
       "      <td>30.000000</td>\n",
       "    </tr>\n",
       "    <tr>\n",
       "      <th>75%</th>\n",
       "      <td>550.250000</td>\n",
       "      <td>4.538425e+04</td>\n",
       "      <td>59.000000</td>\n",
       "      <td>5.700000</td>\n",
       "      <td>73.000000</td>\n",
       "      <td>10.200000</td>\n",
       "      <td>5.600000</td>\n",
       "      <td>2.900000</td>\n",
       "      <td>1.300000</td>\n",
       "      <td>3.300000</td>\n",
       "      <td>1.500000</td>\n",
       "      <td>33.000000</td>\n",
       "    </tr>\n",
       "    <tr>\n",
       "      <th>max</th>\n",
       "      <td>800.000000</td>\n",
       "      <td>7.543566e+07</td>\n",
       "      <td>79.000000</td>\n",
       "      <td>38.900000</td>\n",
       "      <td>800.000000</td>\n",
       "      <td>16.000000</td>\n",
       "      <td>10.300000</td>\n",
       "      <td>13.800000</td>\n",
       "      <td>9.900000</td>\n",
       "      <td>9.900000</td>\n",
       "      <td>35.000000</td>\n",
       "      <td>47.750000</td>\n",
       "    </tr>\n",
       "  </tbody>\n",
       "</table>\n",
       "</div>"
      ],
      "text/plain": [
       "                ID     No_Pation          AGE         Urea           Cr  \\\n",
       "count  1000.000000  1.000000e+03  1000.000000  1000.000000  1000.000000   \n",
       "mean    340.500000  2.705514e+05    53.528000     5.124743    68.943000   \n",
       "std     240.397673  3.380758e+06     8.799241     2.935165    59.984747   \n",
       "min       1.000000  1.230000e+02    20.000000     0.500000     6.000000   \n",
       "25%     125.750000  2.406375e+04    51.000000     3.700000    48.000000   \n",
       "50%     300.500000  3.439550e+04    55.000000     4.600000    60.000000   \n",
       "75%     550.250000  4.538425e+04    59.000000     5.700000    73.000000   \n",
       "max     800.000000  7.543566e+07    79.000000    38.900000   800.000000   \n",
       "\n",
       "             HbA1c         Chol           TG          HDL          LDL  \\\n",
       "count  1000.000000  1000.000000  1000.000000  1000.000000  1000.000000   \n",
       "mean      8.281160     4.862820     2.349610     1.204750     2.609790   \n",
       "std       2.534003     1.301738     1.401176     0.660414     1.115102   \n",
       "min       0.900000     0.000000     0.300000     0.200000     0.300000   \n",
       "25%       6.500000     4.000000     1.500000     0.900000     1.800000   \n",
       "50%       8.000000     4.800000     2.000000     1.100000     2.500000   \n",
       "75%      10.200000     5.600000     2.900000     1.300000     3.300000   \n",
       "max      16.000000    10.300000    13.800000     9.900000     9.900000   \n",
       "\n",
       "              VLDL          BMI  \n",
       "count  1000.000000  1000.000000  \n",
       "mean      1.854700    29.578020  \n",
       "std       3.663599     4.962388  \n",
       "min       0.100000    19.000000  \n",
       "25%       0.700000    26.000000  \n",
       "50%       0.900000    30.000000  \n",
       "75%       1.500000    33.000000  \n",
       "max      35.000000    47.750000  "
      ]
     },
     "execution_count": 5,
     "metadata": {},
     "output_type": "execute_result"
    }
   ],
   "source": [
    "data.describe()"
   ]
  },
  {
   "cell_type": "markdown",
   "id": "ca001dd3-7dfb-4661-a7da-13db104baf88",
   "metadata": {},
   "source": [
    "## Analyse univariée"
   ]
  },
  {
   "cell_type": "code",
   "execution_count": 6,
   "id": "183ed2f9-97df-4c30-989e-4706f250cbc5",
   "metadata": {},
   "outputs": [
    {
     "name": "stdout",
     "output_type": "stream",
     "text": [
      "Percentage distribution of 'y':\n",
      " CLASS\n",
      "Y    84.4\n",
      "N    10.3\n",
      "P     5.3\n",
      "Name: proportion, dtype: float64\n"
     ]
    },
    {
     "data": {
      "image/png": "[encoded data removed]",
      "text/plain": [
       "<Figure size 640x480 with 1 Axes>"
      ]
     },
     "metadata": {},
     "output_type": "display_data"
    }
   ],
   "source": [
    "#Calculate the percentage distribution of 'y'\n",
    "y_Class = data['CLASS'].value_counts(normalize=True) * 100 \n",
    "print(\"Percentage distribution of 'y':\\n\", y_Class)\n",
    "\n",
    " # Optional pie chart visualization \n",
    "y_Class.plot(kind='pie', autopct='%1.1f%%', colors=['lightblue', 'orange','yellow'], labels=['Y','N','P'], fontsize=12)\n",
    "plt.title('Response (y) Distribution')\n",
    "plt.ylabel('') \n",
    "plt.show()"
   ]
  },
  {
   "cell_type": "markdown",
   "id": "979aeb7d-6a74-4bcd-aa86-6ec09bd52573",
   "metadata": {},
   "source": [
    "### La majeure partie des patients ont le diabéte"
   ]
  },
  {
   "cell_type": "code",
   "execution_count": 7,
   "id": "0d137d3b-2ba8-4369-a8d7-5f61c066630d",
   "metadata": {},
   "outputs": [
    {
     "data": {
      "image/png": "[encoded data removed]",
      "text/plain": [
       "<Figure size 800x500 with 1 Axes>"
      ]
     },
     "metadata": {},
     "output_type": "display_data"
    }
   ],
   "source": [
    "# Univariate analysis for gender \n",
    "plt.figure(figsize=(8, 5)) \n",
    "\n",
    "data['Gender'].value_counts().plot(kind='bar', color='orange') \n",
    "plt.title('Genre Distribution') \n",
    "plt.xlabel('Gender') \n",
    "plt.ylabel('Count') \n",
    "plt.xticks(rotation=45) \n",
    "plt.show()"
   ]
  },
  {
   "cell_type": "markdown",
   "id": "b4690979-b278-46d0-9c52-f5944cf05e7b",
   "metadata": {},
   "source": [
    "### La majeure partie des patients examiner sont de sexe masculin"
   ]
  },
  {
   "cell_type": "code",
   "execution_count": 8,
   "id": "1b6f4160-c92b-4703-a360-c60d156da3e7",
   "metadata": {},
   "outputs": [
    {
     "data": {
      "text/html": [
       "<div>\n",
       "<style scoped>\n",
       "    .dataframe tbody tr th:only-of-type {\n",
       "        vertical-align: middle;\n",
       "    }\n",
       "\n",
       "    .dataframe tbody tr th {\n",
       "        vertical-align: top;\n",
       "    }\n",
       "\n",
       "    .dataframe thead th {\n",
       "        text-align: right;\n",
       "    }\n",
       "</style>\n",
       "<table border=\"1\" class=\"dataframe\">\n",
       "  <thead>\n",
       "    <tr style=\"text-align: right;\">\n",
       "      <th></th>\n",
       "      <th>ID</th>\n",
       "      <th>No_Pation</th>\n",
       "      <th>Gender</th>\n",
       "      <th>AGE</th>\n",
       "      <th>Urea</th>\n",
       "      <th>Cr</th>\n",
       "      <th>HbA1c</th>\n",
       "      <th>Chol</th>\n",
       "      <th>TG</th>\n",
       "      <th>HDL</th>\n",
       "      <th>LDL</th>\n",
       "      <th>VLDL</th>\n",
       "      <th>BMI</th>\n",
       "      <th>CLASS</th>\n",
       "      <th>age_range</th>\n",
       "    </tr>\n",
       "  </thead>\n",
       "  <tbody>\n",
       "    <tr>\n",
       "      <th>979</th>\n",
       "      <td>177</td>\n",
       "      <td>45364</td>\n",
       "      <td>F</td>\n",
       "      <td>20</td>\n",
       "      <td>4.6</td>\n",
       "      <td>70</td>\n",
       "      <td>9.6</td>\n",
       "      <td>4.1</td>\n",
       "      <td>1.8</td>\n",
       "      <td>1.0</td>\n",
       "      <td>2.3</td>\n",
       "      <td>0.8</td>\n",
       "      <td>30.0</td>\n",
       "      <td>Y</td>\n",
       "      <td>(20-30)</td>\n",
       "    </tr>\n",
       "  </tbody>\n",
       "</table>\n",
       "</div>"
      ],
      "text/plain": [
       "      ID  No_Pation Gender  AGE  Urea  Cr  HbA1c  Chol   TG  HDL  LDL  VLDL  \\\n",
       "979  177      45364      F   20   4.6  70    9.6   4.1  1.8  1.0  2.3   0.8   \n",
       "\n",
       "      BMI CLASS age_range  \n",
       "979  30.0     Y   (20-30)  "
      ]
     },
     "execution_count": 8,
     "metadata": {},
     "output_type": "execute_result"
    }
   ],
   "source": [
    "data[data[\"AGE\"]==20]"
   ]
  },
  {
   "cell_type": "code",
   "execution_count": 9,
   "id": "12f0911a-6683-427a-bdc1-d137f51c7904",
   "metadata": {},
   "outputs": [
    {
     "data": {
      "text/plain": [
       "AGE\n",
       "55    181\n",
       "60     88\n",
       "54     84\n",
       "51     51\n",
       "61     49\n",
       "56     48\n",
       "52     44\n",
       "50     43\n",
       "59     32\n",
       "57     31\n",
       "58     30\n",
       "63     29\n",
       "53     25\n",
       "30     20\n",
       "49     19\n",
       "45     16\n",
       "33     16\n",
       "40     13\n",
       "44     13\n",
       "35     11\n",
       "66     11\n",
       "47     10\n",
       "42     10\n",
       "48     10\n",
       "31      9\n",
       "39      9\n",
       "68      8\n",
       "62      8\n",
       "73      8\n",
       "43      8\n",
       "64      7\n",
       "69      6\n",
       "67      6\n",
       "38      6\n",
       "41      5\n",
       "34      5\n",
       "36      4\n",
       "76      4\n",
       "77      4\n",
       "28      3\n",
       "46      3\n",
       "26      2\n",
       "70      2\n",
       "65      2\n",
       "75      2\n",
       "25      1\n",
       "79      1\n",
       "32      1\n",
       "20      1\n",
       "71      1\n",
       "Name: count, dtype: int64"
      ]
     },
     "execution_count": 9,
     "metadata": {},
     "output_type": "execute_result"
    }
   ],
   "source": [
    "data[\"AGE\"].value_counts()"
   ]
  },
  {
   "cell_type": "code",
   "execution_count": 10,
   "id": "d9ced609-258d-48fa-9f35-53bc7f651aa8",
   "metadata": {},
   "outputs": [
    {
     "data": {
      "image/png": "[encoded data removed]",
      "text/plain": [
       "<Figure size 800x500 with 1 Axes>"
      ]
     },
     "metadata": {},
     "output_type": "display_data"
    }
   ],
   "source": [
    "# Univariate analysis for AGE \n",
    "plt.figure(figsize=(8, 5)) \n",
    "\n",
    "data['AGE'].value_counts().plot(kind='bar', color='orange') \n",
    "plt.title('Genre Distribution') \n",
    "plt.xlabel('AGE') \n",
    "plt.ylabel('Count') \n",
    "plt.xticks(rotation=90) \n",
    "plt.show()"
   ]
  },
  {
   "cell_type": "markdown",
   "id": "3860279e-ad27-4af4-9e34-2405fbff97ae",
   "metadata": {},
   "source": [
    "### L'age qui domine est de 55 ans"
   ]
  },
  {
   "cell_type": "markdown",
   "id": "fcc9735a-99c5-4ab4-a7d6-bd2e5b929baa",
   "metadata": {},
   "source": [
    "# Analyse bivariée"
   ]
  },
  {
   "cell_type": "code",
   "execution_count": 11,
   "id": "f348b39e-3f31-4d33-9375-635a82215840",
   "metadata": {},
   "outputs": [
    {
     "data": {
      "image/png": "[encoded data removed]",
      "text/plain": [
       "<Figure size 800x500 with 1 Axes>"
      ]
     },
     "metadata": {},
     "output_type": "display_data"
    }
   ],
   "source": [
    "plt.figure(figsize=(8, 5))\n",
    "sns.boxplot(x='CLASS', y='BMI', data=data, hue='CLASS', palette=\"Set2\", legend=False)\n",
    "plt.title(\"Distribution de l'IMC selon la classe\")\n",
    "plt.xlabel(\"Classe\")\n",
    "plt.ylabel(\"IMC (BMI)\")\n",
    "plt.show()"
   ]
  },
  {
   "cell_type": "markdown",
   "id": "60ea36fc-7924-457c-9168-cbe81a589e9f",
   "metadata": {},
   "source": [
    "##### La classe N présente un IMC normal, centré autour de 22, avec une distribution assez homogène. Cette population semble maintenir un poids santé relativement stable.La classe P montre une tendance au surpoids léger avec des IMC entre 23-24, et quelques cas isolés plus élevés. Cette population pourrait bénéficier d'une surveillance préventive pour éviter une progression vers l'obésité.La classe Y se distingue nettement avec des IMC beaucoup plus élevés (médiane vers 30) et une grande variabilité, allant jusqu'à des cas d'obésité sévère (IMC > 40). Cette dispersion importante suggère une population plus hétérogène nécessitant probablement des interventions médicales personnalisées."
   ]
  },
  {
   "cell_type": "code",
   "execution_count": 12,
   "id": "75c11497-c9e8-4496-87bc-e68922acec1d",
   "metadata": {},
   "outputs": [
    {
     "data": {
      "image/png": "[encoded data removed]",
      "text/plain": [
       "<Figure size 800x500 with 1 Axes>"
      ]
     },
     "metadata": {},
     "output_type": "display_data"
    }
   ],
   "source": [
    "plt.figure(figsize=(8, 5))\n",
    "sns.boxplot(x='CLASS', y='AGE', data=data, hue='CLASS', palette=\"Set2\", legend=False)\n",
    "plt.title(\"Distribution de l'IMC selon le genre\")\n",
    "plt.xlabel(\"CLASS\")\n",
    "plt.ylabel(\"AGE\")\n",
    "plt.show()"
   ]
  },
  {
   "cell_type": "markdown",
   "id": "124424f7-6a8f-41a8-b4ab-bac25f7fede5",
   "metadata": {},
   "source": [
    "### Analyse Multivariée"
   ]
  },
  {
   "cell_type": "code",
   "execution_count": 13,
   "id": "9183270d-c781-44c0-bb2c-0cca36792233",
   "metadata": {},
   "outputs": [
    {
     "data": {
      "image/png": "[encoded data removed]",
      "text/plain": [
       "<Figure size 1000x600 with 2 Axes>"
      ]
     },
     "metadata": {},
     "output_type": "display_data"
    }
   ],
   "source": [
    "# Select only numeric columns \n",
    "numeric_data = data[['AGE', 'Urea', 'Cr', 'HbA1c', 'Chol', 'TG','HDL','LDL','VLDL','BMI']] \n",
    "\n",
    "# Calculate the correlation matrix\n",
    "correlation_matrix = numeric_data.corr() \n",
    "# Display the correlation matrix as a heatmap \n",
    "plt.figure(figsize=(10, 6)) \n",
    "sns.heatmap(correlation_matrix, annot=True, cmap='coolwarm', fmt='.2f', linewidths=0.5) \n",
    "plt.title('Correlation Matrix of Numeric Variables') \n",
    "plt.show()"
   ]
  },
  {
   "cell_type": "markdown",
   "id": "b122c5dc-8117-4f23-a851-680af7b81c4f",
   "metadata": {},
   "source": [
    "## Feature Engeenering"
   ]
  },
  {
   "cell_type": "code",
   "execution_count": 14,
   "id": "3e29cb92-79c0-4e8c-aff3-b0fa363bb1eb",
   "metadata": {},
   "outputs": [
    {
     "data": {
      "text/plain": [
       "ID           0\n",
       "No_Pation    0\n",
       "Gender       0\n",
       "AGE          0\n",
       "Urea         0\n",
       "Cr           0\n",
       "HbA1c        0\n",
       "Chol         0\n",
       "TG           0\n",
       "HDL          0\n",
       "LDL          0\n",
       "VLDL         0\n",
       "BMI          0\n",
       "CLASS        0\n",
       "age_range    0\n",
       "dtype: int64"
      ]
     },
     "execution_count": 14,
     "metadata": {},
     "output_type": "execute_result"
    }
   ],
   "source": [
    "data.isna().sum()"
   ]
  },
  {
   "cell_type": "code",
   "execution_count": 15,
   "id": "01fa27f8-7d2a-4d9f-b58d-f92025911471",
   "metadata": {},
   "outputs": [],
   "source": [
    "data2 = data.drop(['ID','No_Pation','age_range'],axis=1)"
   ]
  },
  {
   "cell_type": "code",
   "execution_count": 16,
   "id": "12525f21-125b-4bc8-88a5-50d508dd93f6",
   "metadata": {},
   "outputs": [
    {
     "data": {
      "text/html": [
       "<div>\n",
       "<style scoped>\n",
       "    .dataframe tbody tr th:only-of-type {\n",
       "        vertical-align: middle;\n",
       "    }\n",
       "\n",
       "    .dataframe tbody tr th {\n",
       "        vertical-align: top;\n",
       "    }\n",
       "\n",
       "    .dataframe thead th {\n",
       "        text-align: right;\n",
       "    }\n",
       "</style>\n",
       "<table border=\"1\" class=\"dataframe\">\n",
       "  <thead>\n",
       "    <tr style=\"text-align: right;\">\n",
       "      <th></th>\n",
       "      <th>Gender</th>\n",
       "      <th>AGE</th>\n",
       "      <th>Urea</th>\n",
       "      <th>Cr</th>\n",
       "      <th>HbA1c</th>\n",
       "      <th>Chol</th>\n",
       "      <th>TG</th>\n",
       "      <th>HDL</th>\n",
       "      <th>LDL</th>\n",
       "      <th>VLDL</th>\n",
       "      <th>BMI</th>\n",
       "      <th>CLASS</th>\n",
       "    </tr>\n",
       "  </thead>\n",
       "  <tbody>\n",
       "    <tr>\n",
       "      <th>0</th>\n",
       "      <td>F</td>\n",
       "      <td>50</td>\n",
       "      <td>4.7</td>\n",
       "      <td>46</td>\n",
       "      <td>4.9</td>\n",
       "      <td>4.2</td>\n",
       "      <td>0.9</td>\n",
       "      <td>2.4</td>\n",
       "      <td>1.4</td>\n",
       "      <td>0.5</td>\n",
       "      <td>24.0</td>\n",
       "      <td>N</td>\n",
       "    </tr>\n",
       "    <tr>\n",
       "      <th>1</th>\n",
       "      <td>M</td>\n",
       "      <td>26</td>\n",
       "      <td>4.5</td>\n",
       "      <td>62</td>\n",
       "      <td>4.9</td>\n",
       "      <td>3.7</td>\n",
       "      <td>1.4</td>\n",
       "      <td>1.1</td>\n",
       "      <td>2.1</td>\n",
       "      <td>0.6</td>\n",
       "      <td>23.0</td>\n",
       "      <td>N</td>\n",
       "    </tr>\n",
       "    <tr>\n",
       "      <th>2</th>\n",
       "      <td>F</td>\n",
       "      <td>50</td>\n",
       "      <td>4.7</td>\n",
       "      <td>46</td>\n",
       "      <td>4.9</td>\n",
       "      <td>4.2</td>\n",
       "      <td>0.9</td>\n",
       "      <td>2.4</td>\n",
       "      <td>1.4</td>\n",
       "      <td>0.5</td>\n",
       "      <td>24.0</td>\n",
       "      <td>N</td>\n",
       "    </tr>\n",
       "    <tr>\n",
       "      <th>3</th>\n",
       "      <td>F</td>\n",
       "      <td>50</td>\n",
       "      <td>4.7</td>\n",
       "      <td>46</td>\n",
       "      <td>4.9</td>\n",
       "      <td>4.2</td>\n",
       "      <td>0.9</td>\n",
       "      <td>2.4</td>\n",
       "      <td>1.4</td>\n",
       "      <td>0.5</td>\n",
       "      <td>24.0</td>\n",
       "      <td>N</td>\n",
       "    </tr>\n",
       "    <tr>\n",
       "      <th>4</th>\n",
       "      <td>M</td>\n",
       "      <td>33</td>\n",
       "      <td>7.1</td>\n",
       "      <td>46</td>\n",
       "      <td>4.9</td>\n",
       "      <td>4.9</td>\n",
       "      <td>1.0</td>\n",
       "      <td>0.8</td>\n",
       "      <td>2.0</td>\n",
       "      <td>0.4</td>\n",
       "      <td>21.0</td>\n",
       "      <td>N</td>\n",
       "    </tr>\n",
       "  </tbody>\n",
       "</table>\n",
       "</div>"
      ],
      "text/plain": [
       "  Gender  AGE  Urea  Cr  HbA1c  Chol   TG  HDL  LDL  VLDL   BMI CLASS\n",
       "0      F   50   4.7  46    4.9   4.2  0.9  2.4  1.4   0.5  24.0     N\n",
       "1      M   26   4.5  62    4.9   3.7  1.4  1.1  2.1   0.6  23.0     N\n",
       "2      F   50   4.7  46    4.9   4.2  0.9  2.4  1.4   0.5  24.0     N\n",
       "3      F   50   4.7  46    4.9   4.2  0.9  2.4  1.4   0.5  24.0     N\n",
       "4      M   33   7.1  46    4.9   4.9  1.0  0.8  2.0   0.4  21.0     N"
      ]
     },
     "execution_count": 16,
     "metadata": {},
     "output_type": "execute_result"
    }
   ],
   "source": [
    "data2.head()"
   ]
  },
  {
   "cell_type": "code",
   "execution_count": 17,
   "id": "21f0604a-02eb-4c3e-9c41-7eb673c8e772",
   "metadata": {},
   "outputs": [
    {
     "name": "stdout",
     "output_type": "stream",
     "text": [
      "<class 'pandas.core.frame.DataFrame'>\n",
      "RangeIndex: 1000 entries, 0 to 999\n",
      "Data columns (total 12 columns):\n",
      " #   Column  Non-Null Count  Dtype  \n",
      "---  ------  --------------  -----  \n",
      " 0   Gender  1000 non-null   object \n",
      " 1   AGE     1000 non-null   int64  \n",
      " 2   Urea    1000 non-null   float64\n",
      " 3   Cr      1000 non-null   int64  \n",
      " 4   HbA1c   1000 non-null   float64\n",
      " 5   Chol    1000 non-null   float64\n",
      " 6   TG      1000 non-null   float64\n",
      " 7   HDL     1000 non-null   float64\n",
      " 8   LDL     1000 non-null   float64\n",
      " 9   VLDL    1000 non-null   float64\n",
      " 10  BMI     1000 non-null   float64\n",
      " 11  CLASS   1000 non-null   object \n",
      "dtypes: float64(8), int64(2), object(2)\n",
      "memory usage: 93.9+ KB\n"
     ]
    }
   ],
   "source": [
    "data2.info()"
   ]
  },
  {
   "cell_type": "code",
   "execution_count": 18,
   "id": "6c1c0470-2674-4671-9839-648989a51697",
   "metadata": {},
   "outputs": [
    {
     "data": {
      "text/plain": [
       "array(['F', 'M'], dtype=object)"
      ]
     },
     "execution_count": 18,
     "metadata": {},
     "output_type": "execute_result"
    }
   ],
   "source": [
    "data2[\"Gender\"].unique()"
   ]
  },
  {
   "cell_type": "code",
   "execution_count": 19,
   "id": "c52c82dc-7cdc-45ec-86f0-f859c4640862",
   "metadata": {},
   "outputs": [
    {
     "data": {
      "text/plain": [
       "array(['N', 'P', 'Y'], dtype=object)"
      ]
     },
     "execution_count": 19,
     "metadata": {},
     "output_type": "execute_result"
    }
   ],
   "source": [
    "data2[\"CLASS\"].unique()"
   ]
  },
  {
   "cell_type": "code",
   "execution_count": 20,
   "id": "73a7cacd-181a-402c-b0ad-124e510b2194",
   "metadata": {},
   "outputs": [],
   "source": [
    "label1=LabelEncoder()\n",
    "data2[\"CLASS\"]=label1.fit_transform(data2[\"CLASS\"])"
   ]
  },
  {
   "cell_type": "code",
   "execution_count": 21,
   "id": "cefe0f7a-d612-4396-afaa-6e2da1e456f6",
   "metadata": {},
   "outputs": [
    {
     "data": {
      "text/plain": [
       "array([0, 1, 2])"
      ]
     },
     "execution_count": 21,
     "metadata": {},
     "output_type": "execute_result"
    }
   ],
   "source": [
    "data2[\"CLASS\"].unique()"
   ]
  },
  {
   "cell_type": "code",
   "execution_count": 22,
   "id": "056ac0f0-70ec-4548-a501-21a9c5d8d9de",
   "metadata": {},
   "outputs": [],
   "source": [
    "data2[\"Gender\"]=label1.fit_transform(data2[\"Gender\"])"
   ]
  },
  {
   "cell_type": "code",
   "execution_count": 23,
   "id": "f45eb5ed-8d24-4fa3-8c5d-8a4c137726b5",
   "metadata": {},
   "outputs": [
    {
     "data": {
      "text/plain": [
       "array([0, 1])"
      ]
     },
     "execution_count": 23,
     "metadata": {},
     "output_type": "execute_result"
    }
   ],
   "source": [
    "data2[\"Gender\"].unique()"
   ]
  },
  {
   "cell_type": "code",
   "execution_count": 24,
   "id": "b5d01039-94ce-4d2b-86ee-41ff8a607d82",
   "metadata": {},
   "outputs": [
    {
     "data": {
      "text/html": [
       "<div>\n",
       "<style scoped>\n",
       "    .dataframe tbody tr th:only-of-type {\n",
       "        vertical-align: middle;\n",
       "    }\n",
       "\n",
       "    .dataframe tbody tr th {\n",
       "        vertical-align: top;\n",
       "    }\n",
       "\n",
       "    .dataframe thead th {\n",
       "        text-align: right;\n",
       "    }\n",
       "</style>\n",
       "<table border=\"1\" class=\"dataframe\">\n",
       "  <thead>\n",
       "    <tr style=\"text-align: right;\">\n",
       "      <th></th>\n",
       "      <th>Gender</th>\n",
       "      <th>AGE</th>\n",
       "      <th>Urea</th>\n",
       "      <th>Cr</th>\n",
       "      <th>HbA1c</th>\n",
       "      <th>Chol</th>\n",
       "      <th>TG</th>\n",
       "      <th>HDL</th>\n",
       "      <th>LDL</th>\n",
       "      <th>VLDL</th>\n",
       "      <th>BMI</th>\n",
       "      <th>CLASS</th>\n",
       "    </tr>\n",
       "  </thead>\n",
       "  <tbody>\n",
       "    <tr>\n",
       "      <th>0</th>\n",
       "      <td>0</td>\n",
       "      <td>50</td>\n",
       "      <td>4.7</td>\n",
       "      <td>46</td>\n",
       "      <td>4.9</td>\n",
       "      <td>4.2</td>\n",
       "      <td>0.9</td>\n",
       "      <td>2.4</td>\n",
       "      <td>1.4</td>\n",
       "      <td>0.5</td>\n",
       "      <td>24.0</td>\n",
       "      <td>0</td>\n",
       "    </tr>\n",
       "    <tr>\n",
       "      <th>1</th>\n",
       "      <td>1</td>\n",
       "      <td>26</td>\n",
       "      <td>4.5</td>\n",
       "      <td>62</td>\n",
       "      <td>4.9</td>\n",
       "      <td>3.7</td>\n",
       "      <td>1.4</td>\n",
       "      <td>1.1</td>\n",
       "      <td>2.1</td>\n",
       "      <td>0.6</td>\n",
       "      <td>23.0</td>\n",
       "      <td>0</td>\n",
       "    </tr>\n",
       "    <tr>\n",
       "      <th>2</th>\n",
       "      <td>0</td>\n",
       "      <td>50</td>\n",
       "      <td>4.7</td>\n",
       "      <td>46</td>\n",
       "      <td>4.9</td>\n",
       "      <td>4.2</td>\n",
       "      <td>0.9</td>\n",
       "      <td>2.4</td>\n",
       "      <td>1.4</td>\n",
       "      <td>0.5</td>\n",
       "      <td>24.0</td>\n",
       "      <td>0</td>\n",
       "    </tr>\n",
       "    <tr>\n",
       "      <th>3</th>\n",
       "      <td>0</td>\n",
       "      <td>50</td>\n",
       "      <td>4.7</td>\n",
       "      <td>46</td>\n",
       "      <td>4.9</td>\n",
       "      <td>4.2</td>\n",
       "      <td>0.9</td>\n",
       "      <td>2.4</td>\n",
       "      <td>1.4</td>\n",
       "      <td>0.5</td>\n",
       "      <td>24.0</td>\n",
       "      <td>0</td>\n",
       "    </tr>\n",
       "    <tr>\n",
       "      <th>4</th>\n",
       "      <td>1</td>\n",
       "      <td>33</td>\n",
       "      <td>7.1</td>\n",
       "      <td>46</td>\n",
       "      <td>4.9</td>\n",
       "      <td>4.9</td>\n",
       "      <td>1.0</td>\n",
       "      <td>0.8</td>\n",
       "      <td>2.0</td>\n",
       "      <td>0.4</td>\n",
       "      <td>21.0</td>\n",
       "      <td>0</td>\n",
       "    </tr>\n",
       "  </tbody>\n",
       "</table>\n",
       "</div>"
      ],
      "text/plain": [
       "   Gender  AGE  Urea  Cr  HbA1c  Chol   TG  HDL  LDL  VLDL   BMI  CLASS\n",
       "0       0   50   4.7  46    4.9   4.2  0.9  2.4  1.4   0.5  24.0      0\n",
       "1       1   26   4.5  62    4.9   3.7  1.4  1.1  2.1   0.6  23.0      0\n",
       "2       0   50   4.7  46    4.9   4.2  0.9  2.4  1.4   0.5  24.0      0\n",
       "3       0   50   4.7  46    4.9   4.2  0.9  2.4  1.4   0.5  24.0      0\n",
       "4       1   33   7.1  46    4.9   4.9  1.0  0.8  2.0   0.4  21.0      0"
      ]
     },
     "execution_count": 24,
     "metadata": {},
     "output_type": "execute_result"
    }
   ],
   "source": [
    "data2.head()"
   ]
  },
  {
   "cell_type": "code",
   "execution_count": 25,
   "id": "3c9dbda6-5498-4188-bbf4-0349c663a80f",
   "metadata": {},
   "outputs": [],
   "source": [
    "scaler=MinMaxScaler() \n",
    "column_to_scale=['AGE','Urea','Cr','HbA1c','Chol','TG','HDL','LDL','VLDL','BMI']"
   ]
  },
  {
   "cell_type": "code",
   "execution_count": 26,
   "id": "6e16ccf1-15f9-474f-a9be-15b0cd226641",
   "metadata": {},
   "outputs": [],
   "source": [
    "data2[column_to_scale] = scaler.fit_transform(data2[column_to_scale])"
   ]
  },
  {
   "cell_type": "code",
   "execution_count": 27,
   "id": "9ef35abb-32f4-49a5-a112-42dc8a653cb0",
   "metadata": {},
   "outputs": [
    {
     "data": {
      "text/html": [
       "<div>\n",
       "<style scoped>\n",
       "    .dataframe tbody tr th:only-of-type {\n",
       "        vertical-align: middle;\n",
       "    }\n",
       "\n",
       "    .dataframe tbody tr th {\n",
       "        vertical-align: top;\n",
       "    }\n",
       "\n",
       "    .dataframe thead th {\n",
       "        text-align: right;\n",
       "    }\n",
       "</style>\n",
       "<table border=\"1\" class=\"dataframe\">\n",
       "  <thead>\n",
       "    <tr style=\"text-align: right;\">\n",
       "      <th></th>\n",
       "      <th>AGE</th>\n",
       "      <th>Urea</th>\n",
       "      <th>Cr</th>\n",
       "      <th>HbA1c</th>\n",
       "      <th>Chol</th>\n",
       "      <th>TG</th>\n",
       "      <th>HDL</th>\n",
       "      <th>LDL</th>\n",
       "      <th>VLDL</th>\n",
       "      <th>BMI</th>\n",
       "    </tr>\n",
       "  </thead>\n",
       "  <tbody>\n",
       "    <tr>\n",
       "      <th>0</th>\n",
       "      <td>0.508475</td>\n",
       "      <td>0.109375</td>\n",
       "      <td>0.050378</td>\n",
       "      <td>0.264901</td>\n",
       "      <td>0.407767</td>\n",
       "      <td>0.044444</td>\n",
       "      <td>0.226804</td>\n",
       "      <td>0.114583</td>\n",
       "      <td>0.011461</td>\n",
       "      <td>0.173913</td>\n",
       "    </tr>\n",
       "    <tr>\n",
       "      <th>1</th>\n",
       "      <td>0.101695</td>\n",
       "      <td>0.104167</td>\n",
       "      <td>0.070529</td>\n",
       "      <td>0.264901</td>\n",
       "      <td>0.359223</td>\n",
       "      <td>0.081481</td>\n",
       "      <td>0.092784</td>\n",
       "      <td>0.187500</td>\n",
       "      <td>0.014327</td>\n",
       "      <td>0.139130</td>\n",
       "    </tr>\n",
       "    <tr>\n",
       "      <th>2</th>\n",
       "      <td>0.508475</td>\n",
       "      <td>0.109375</td>\n",
       "      <td>0.050378</td>\n",
       "      <td>0.264901</td>\n",
       "      <td>0.407767</td>\n",
       "      <td>0.044444</td>\n",
       "      <td>0.226804</td>\n",
       "      <td>0.114583</td>\n",
       "      <td>0.011461</td>\n",
       "      <td>0.173913</td>\n",
       "    </tr>\n",
       "    <tr>\n",
       "      <th>3</th>\n",
       "      <td>0.508475</td>\n",
       "      <td>0.109375</td>\n",
       "      <td>0.050378</td>\n",
       "      <td>0.264901</td>\n",
       "      <td>0.407767</td>\n",
       "      <td>0.044444</td>\n",
       "      <td>0.226804</td>\n",
       "      <td>0.114583</td>\n",
       "      <td>0.011461</td>\n",
       "      <td>0.173913</td>\n",
       "    </tr>\n",
       "    <tr>\n",
       "      <th>4</th>\n",
       "      <td>0.220339</td>\n",
       "      <td>0.171875</td>\n",
       "      <td>0.050378</td>\n",
       "      <td>0.264901</td>\n",
       "      <td>0.475728</td>\n",
       "      <td>0.051852</td>\n",
       "      <td>0.061856</td>\n",
       "      <td>0.177083</td>\n",
       "      <td>0.008596</td>\n",
       "      <td>0.069565</td>\n",
       "    </tr>\n",
       "  </tbody>\n",
       "</table>\n",
       "</div>"
      ],
      "text/plain": [
       "        AGE      Urea        Cr     HbA1c      Chol        TG       HDL  \\\n",
       "0  0.508475  0.109375  0.050378  0.264901  0.407767  0.044444  0.226804   \n",
       "1  0.101695  0.104167  0.070529  0.264901  0.359223  0.081481  0.092784   \n",
       "2  0.508475  0.109375  0.050378  0.264901  0.407767  0.044444  0.226804   \n",
       "3  0.508475  0.109375  0.050378  0.264901  0.407767  0.044444  0.226804   \n",
       "4  0.220339  0.171875  0.050378  0.264901  0.475728  0.051852  0.061856   \n",
       "\n",
       "        LDL      VLDL       BMI  \n",
       "0  0.114583  0.011461  0.173913  \n",
       "1  0.187500  0.014327  0.139130  \n",
       "2  0.114583  0.011461  0.173913  \n",
       "3  0.114583  0.011461  0.173913  \n",
       "4  0.177083  0.008596  0.069565  "
      ]
     },
     "execution_count": 27,
     "metadata": {},
     "output_type": "execute_result"
    }
   ],
   "source": [
    "data2[column_to_scale].head()"
   ]
  },
  {
   "cell_type": "code",
   "execution_count": 28,
   "id": "662d21ef-9959-45aa-b2b6-3c9c345a3cb9",
   "metadata": {},
   "outputs": [
    {
     "data": {
      "text/html": [
       "<div>\n",
       "<style scoped>\n",
       "    .dataframe tbody tr th:only-of-type {\n",
       "        vertical-align: middle;\n",
       "    }\n",
       "\n",
       "    .dataframe tbody tr th {\n",
       "        vertical-align: top;\n",
       "    }\n",
       "\n",
       "    .dataframe thead th {\n",
       "        text-align: right;\n",
       "    }\n",
       "</style>\n",
       "<table border=\"1\" class=\"dataframe\">\n",
       "  <thead>\n",
       "    <tr style=\"text-align: right;\">\n",
       "      <th></th>\n",
       "      <th>Gender</th>\n",
       "      <th>CLASS</th>\n",
       "    </tr>\n",
       "  </thead>\n",
       "  <tbody>\n",
       "    <tr>\n",
       "      <th>0</th>\n",
       "      <td>0</td>\n",
       "      <td>0</td>\n",
       "    </tr>\n",
       "    <tr>\n",
       "      <th>1</th>\n",
       "      <td>1</td>\n",
       "      <td>0</td>\n",
       "    </tr>\n",
       "    <tr>\n",
       "      <th>2</th>\n",
       "      <td>0</td>\n",
       "      <td>0</td>\n",
       "    </tr>\n",
       "    <tr>\n",
       "      <th>3</th>\n",
       "      <td>0</td>\n",
       "      <td>0</td>\n",
       "    </tr>\n",
       "    <tr>\n",
       "      <th>4</th>\n",
       "      <td>1</td>\n",
       "      <td>0</td>\n",
       "    </tr>\n",
       "  </tbody>\n",
       "</table>\n",
       "</div>"
      ],
      "text/plain": [
       "   Gender  CLASS\n",
       "0       0      0\n",
       "1       1      0\n",
       "2       0      0\n",
       "3       0      0\n",
       "4       1      0"
      ]
     },
     "execution_count": 28,
     "metadata": {},
     "output_type": "execute_result"
    }
   ],
   "source": [
    "data_Gender_CLASS=data2[[\"Gender\",\"CLASS\"]]\n",
    "data_Gender_CLASS.head()"
   ]
  },
  {
   "cell_type": "code",
   "execution_count": 29,
   "id": "732c5d08-2394-4e89-a6b2-5565c7c257fe",
   "metadata": {},
   "outputs": [],
   "source": [
    "data3=pd.concat([data_Gender_CLASS,data2[column_to_scale]],axis=1)"
   ]
  },
  {
   "cell_type": "code",
   "execution_count": 30,
   "id": "663c5357-9641-4d13-acf1-16d5d2b9313c",
   "metadata": {},
   "outputs": [
    {
     "data": {
      "text/html": [
       "<div>\n",
       "<style scoped>\n",
       "    .dataframe tbody tr th:only-of-type {\n",
       "        vertical-align: middle;\n",
       "    }\n",
       "\n",
       "    .dataframe tbody tr th {\n",
       "        vertical-align: top;\n",
       "    }\n",
       "\n",
       "    .dataframe thead th {\n",
       "        text-align: right;\n",
       "    }\n",
       "</style>\n",
       "<table border=\"1\" class=\"dataframe\">\n",
       "  <thead>\n",
       "    <tr style=\"text-align: right;\">\n",
       "      <th></th>\n",
       "      <th>Gender</th>\n",
       "      <th>CLASS</th>\n",
       "      <th>AGE</th>\n",
       "      <th>Urea</th>\n",
       "      <th>Cr</th>\n",
       "      <th>HbA1c</th>\n",
       "      <th>Chol</th>\n",
       "      <th>TG</th>\n",
       "      <th>HDL</th>\n",
       "      <th>LDL</th>\n",
       "      <th>VLDL</th>\n",
       "      <th>BMI</th>\n",
       "    </tr>\n",
       "  </thead>\n",
       "  <tbody>\n",
       "    <tr>\n",
       "      <th>0</th>\n",
       "      <td>0</td>\n",
       "      <td>0</td>\n",
       "      <td>0.508475</td>\n",
       "      <td>0.109375</td>\n",
       "      <td>0.050378</td>\n",
       "      <td>0.264901</td>\n",
       "      <td>0.407767</td>\n",
       "      <td>0.044444</td>\n",
       "      <td>0.226804</td>\n",
       "      <td>0.114583</td>\n",
       "      <td>0.011461</td>\n",
       "      <td>0.173913</td>\n",
       "    </tr>\n",
       "    <tr>\n",
       "      <th>1</th>\n",
       "      <td>1</td>\n",
       "      <td>0</td>\n",
       "      <td>0.101695</td>\n",
       "      <td>0.104167</td>\n",
       "      <td>0.070529</td>\n",
       "      <td>0.264901</td>\n",
       "      <td>0.359223</td>\n",
       "      <td>0.081481</td>\n",
       "      <td>0.092784</td>\n",
       "      <td>0.187500</td>\n",
       "      <td>0.014327</td>\n",
       "      <td>0.139130</td>\n",
       "    </tr>\n",
       "    <tr>\n",
       "      <th>2</th>\n",
       "      <td>0</td>\n",
       "      <td>0</td>\n",
       "      <td>0.508475</td>\n",
       "      <td>0.109375</td>\n",
       "      <td>0.050378</td>\n",
       "      <td>0.264901</td>\n",
       "      <td>0.407767</td>\n",
       "      <td>0.044444</td>\n",
       "      <td>0.226804</td>\n",
       "      <td>0.114583</td>\n",
       "      <td>0.011461</td>\n",
       "      <td>0.173913</td>\n",
       "    </tr>\n",
       "    <tr>\n",
       "      <th>3</th>\n",
       "      <td>0</td>\n",
       "      <td>0</td>\n",
       "      <td>0.508475</td>\n",
       "      <td>0.109375</td>\n",
       "      <td>0.050378</td>\n",
       "      <td>0.264901</td>\n",
       "      <td>0.407767</td>\n",
       "      <td>0.044444</td>\n",
       "      <td>0.226804</td>\n",
       "      <td>0.114583</td>\n",
       "      <td>0.011461</td>\n",
       "      <td>0.173913</td>\n",
       "    </tr>\n",
       "    <tr>\n",
       "      <th>4</th>\n",
       "      <td>1</td>\n",
       "      <td>0</td>\n",
       "      <td>0.220339</td>\n",
       "      <td>0.171875</td>\n",
       "      <td>0.050378</td>\n",
       "      <td>0.264901</td>\n",
       "      <td>0.475728</td>\n",
       "      <td>0.051852</td>\n",
       "      <td>0.061856</td>\n",
       "      <td>0.177083</td>\n",
       "      <td>0.008596</td>\n",
       "      <td>0.069565</td>\n",
       "    </tr>\n",
       "  </tbody>\n",
       "</table>\n",
       "</div>"
      ],
      "text/plain": [
       "   Gender  CLASS       AGE      Urea        Cr     HbA1c      Chol        TG  \\\n",
       "0       0      0  0.508475  0.109375  0.050378  0.264901  0.407767  0.044444   \n",
       "1       1      0  0.101695  0.104167  0.070529  0.264901  0.359223  0.081481   \n",
       "2       0      0  0.508475  0.109375  0.050378  0.264901  0.407767  0.044444   \n",
       "3       0      0  0.508475  0.109375  0.050378  0.264901  0.407767  0.044444   \n",
       "4       1      0  0.220339  0.171875  0.050378  0.264901  0.475728  0.051852   \n",
       "\n",
       "        HDL       LDL      VLDL       BMI  \n",
       "0  0.226804  0.114583  0.011461  0.173913  \n",
       "1  0.092784  0.187500  0.014327  0.139130  \n",
       "2  0.226804  0.114583  0.011461  0.173913  \n",
       "3  0.226804  0.114583  0.011461  0.173913  \n",
       "4  0.061856  0.177083  0.008596  0.069565  "
      ]
     },
     "execution_count": 30,
     "metadata": {},
     "output_type": "execute_result"
    }
   ],
   "source": [
    "data3.head()"
   ]
  },
  {
   "cell_type": "code",
   "execution_count": 31,
   "id": "fff0306d-36fe-4906-86d7-730a7641c2aa",
   "metadata": {},
   "outputs": [
    {
     "data": {
      "text/plain": [
       "CLASS\n",
       "2    844\n",
       "0    103\n",
       "1     53\n",
       "Name: count, dtype: int64"
      ]
     },
     "execution_count": 31,
     "metadata": {},
     "output_type": "execute_result"
    }
   ],
   "source": [
    "data3[\"CLASS\"].value_counts()"
   ]
  },
  {
   "cell_type": "code",
   "execution_count": 32,
   "id": "135f34b4-521f-44a5-a401-09c1035aaf4a",
   "metadata": {},
   "outputs": [],
   "source": [
    "# Split the dataset into features (X) and target (y)\n",
    "X = data3.drop('CLASS', axis=1)\n",
    "y = data3['CLASS']"
   ]
  },
  {
   "cell_type": "code",
   "execution_count": 33,
   "id": "a6eb958a-5944-40d4-b7ac-3653e2fae136",
   "metadata": {},
   "outputs": [],
   "source": [
    "from sklearn.model_selection import train_test_split, GridSearchCV"
   ]
  },
  {
   "cell_type": "code",
   "execution_count": 34,
   "id": "da00bff9-01ab-4e80-b19d-147658193de0",
   "metadata": {},
   "outputs": [],
   "source": [
    "X_train, X_test, y_train, y_test = train_test_split(X, y, test_size=0.2, random_state=42, stratify=y)"
   ]
  },
  {
   "cell_type": "code",
   "execution_count": 35,
   "id": "0e8ba975-b2cd-465b-8f01-6881c7f9f6e0",
   "metadata": {},
   "outputs": [
    {
     "data": {
      "text/plain": [
       "(800, 11)"
      ]
     },
     "execution_count": 35,
     "metadata": {},
     "output_type": "execute_result"
    }
   ],
   "source": [
    "X_train.shape"
   ]
  },
  {
   "cell_type": "code",
   "execution_count": 36,
   "id": "67096e6d-6a0b-476b-9ca4-488c0a096d8d",
   "metadata": {},
   "outputs": [
    {
     "data": {
      "text/plain": [
       "(200, 11)"
      ]
     },
     "execution_count": 36,
     "metadata": {},
     "output_type": "execute_result"
    }
   ],
   "source": [
    "X_test.shape"
   ]
  },
  {
   "cell_type": "code",
   "execution_count": 37,
   "id": "6d057185-5a56-4fde-8f2a-dc2ea2942b47",
   "metadata": {},
   "outputs": [],
   "source": [
    "from sklearn.ensemble import RandomForestClassifier"
   ]
  },
  {
   "cell_type": "code",
   "execution_count": 38,
   "id": "e9f6fda0-b478-4cb6-a2e1-7316e0115d5e",
   "metadata": {},
   "outputs": [],
   "source": [
    "random_forest=RandomForestClassifier()\n",
    "random_model=random_forest.fit(X_train,y_train)\n"
   ]
  },
  {
   "cell_type": "code",
   "execution_count": 39,
   "id": "e4ed1001-0691-475d-afa0-9456082b08e2",
   "metadata": {},
   "outputs": [],
   "source": [
    "random_predict=random_model.predict(X_test)"
   ]
  },
  {
   "cell_type": "code",
   "execution_count": 40,
   "id": "f129eab7-14a0-4d32-8347-19d7fb8083a9",
   "metadata": {},
   "outputs": [],
   "source": [
    "from sklearn.metrics import accuracy_score"
   ]
  },
  {
   "cell_type": "code",
   "execution_count": 41,
   "id": "3286f6d6-83d3-4741-a761-e6fddb4af443",
   "metadata": {},
   "outputs": [],
   "source": [
    "precision = accuracy_score(y_test,random_predict)"
   ]
  },
  {
   "cell_type": "code",
   "execution_count": 42,
   "id": "c7baf2e5-757f-4530-a4fc-540c7999a6db",
   "metadata": {},
   "outputs": [
    {
     "data": {
      "text/plain": [
       "0.995"
      ]
     },
     "execution_count": 42,
     "metadata": {},
     "output_type": "execute_result"
    }
   ],
   "source": [
    "precision"
   ]
  },
  {
   "cell_type": "code",
   "execution_count": 43,
   "id": "7a928cd3-68b4-49e4-b9df-6353157b003d",
   "metadata": {},
   "outputs": [],
   "source": [
    "from sklearn.metrics import ConfusionMatrixDisplay \n",
    "from sklearn.metrics._plot.confusion_matrix import confusion_matrix"
   ]
  },
  {
   "cell_type": "code",
   "execution_count": 44,
   "id": "ed8f11cf-bf31-41b7-b5d4-d94c5846cd92",
   "metadata": {},
   "outputs": [],
   "source": [
    "cm = confusion_matrix(y_test, random_predict)"
   ]
  },
  {
   "cell_type": "code",
   "execution_count": 45,
   "id": "8992dde8-d0fc-46fb-9063-6cc4092e8b16",
   "metadata": {},
   "outputs": [
    {
     "data": {
      "image/png": "[encoded data removed]",
      "text/plain": [
       "<Figure size 640x480 with 2 Axes>"
      ]
     },
     "metadata": {},
     "output_type": "display_data"
    }
   ],
   "source": [
    "# Display confusion matrix with three labels\n",
    "disp = ConfusionMatrixDisplay(confusion_matrix=cm, display_labels=['class_0', 'class_1', 'class_2'])\n",
    "disp.plot(cmap='Blues')\n",
    "plt.title(\"Confusion Matrix for Random Forest\")\n",
    "plt.show()"
   ]
  },
  {
   "cell_type": "code",
   "execution_count": 46,
   "id": "a6d8897d-86c4-4b5f-bd66-fef5e647d613",
   "metadata": {},
   "outputs": [],
   "source": [
    "from sklearn.neighbors import KNeighborsClassifier\n",
    "from sklearn.metrics import accuracy_score, classification_report"
   ]
  },
  {
   "cell_type": "code",
   "execution_count": 47,
   "id": "15aee62e-0c30-4696-ac11-d9839f81078b",
   "metadata": {},
   "outputs": [
    {
     "name": "stdout",
     "output_type": "stream",
     "text": [
      "Accuracy: 0.945\n",
      "              precision    recall  f1-score   support\n",
      "\n",
      "           0       0.83      0.90      0.86        21\n",
      "           1       0.56      0.50      0.53        10\n",
      "           2       0.98      0.98      0.98       169\n",
      "\n",
      "    accuracy                           0.94       200\n",
      "   macro avg       0.79      0.79      0.79       200\n",
      "weighted avg       0.94      0.94      0.94       200\n",
      "\n"
     ]
    }
   ],
   "source": [
    "# Initialize the KNeighborsClassifier with a specified number of neighbors\n",
    "knn = KNeighborsClassifier(n_neighbors=10)  # You can change the number of neighbors\n",
    "\n",
    "# Train the model\n",
    "knn.fit(X_train, y_train)\n",
    "\n",
    "# Make predictions\n",
    "y_pred_knn = knn.predict(X_test)\n",
    "\n",
    "# Calculate accuracy\n",
    "accuracy_knn = accuracy_score(y_test, y_pred_knn)\n",
    "print(f\"Accuracy: {accuracy_knn}\")\n",
    "\n",
    "# Classification report for detailed evaluation\n",
    "print(classification_report(y_test, y_pred_knn))"
   ]
  },
  {
   "cell_type": "code",
   "execution_count": 48,
   "id": "dfc12081-52e9-4df5-9143-69efac369ee0",
   "metadata": {},
   "outputs": [],
   "source": [
    "cm = confusion_matrix(y_test,y_pred_knn )"
   ]
  },
  {
   "cell_type": "code",
   "execution_count": 49,
   "id": "474d321f-c531-43ba-b1c0-91960db9c848",
   "metadata": {},
   "outputs": [
    {
     "data": {
      "image/png": "[encoded data removed]",
      "text/plain": [
       "<Figure size 640x480 with 2 Axes>"
      ]
     },
     "metadata": {},
     "output_type": "display_data"
    }
   ],
   "source": [
    "# Display confusion matrix with three labels\n",
    "disp = ConfusionMatrixDisplay(confusion_matrix=cm, display_labels=['class_0', 'class_1', 'class_2'])\n",
    "disp.plot(cmap='Blues')\n",
    "plt.title(\"Confusion Matrix for knn\")\n",
    "plt.show()"
   ]
  },
  {
   "cell_type": "code",
   "execution_count": 50,
   "id": "1b392948-c981-4e9c-b763-b8449019739c",
   "metadata": {},
   "outputs": [
    {
     "name": "stdout",
     "output_type": "stream",
     "text": [
      "* Running on local URL:  http://127.0.0.1:7860\n",
      "\n",
      "To create a public link, set `share=True` in `launch()`.\n"
     ]
    },
    {
     "data": {
      "text/html": [
       "<div><iframe src=\"http://127.0.0.1:7860/\" width=\"100%\" height=\"500\" allow=\"autoplay; camera; microphone; clipboard-read; clipboard-write;\" frameborder=\"0\" allowfullscreen></iframe></div>"
      ],
      "text/plain": [
       "<IPython.core.display.HTML object>"
      ]
     },
     "metadata": {},
     "output_type": "display_data"
    },
    {
     "data": {
      "text/plain": []
     },
     "execution_count": 50,
     "metadata": {},
     "output_type": "execute_result"
    }
   ],
   "source": [
    "import gradio as gr\n",
    "import joblib\n",
    "import numpy as np\n",
    "import pandas as pd\n",
    "\n",
    "model = joblib.load('random_forest_model.pkl')\n",
    "encoder = joblib.load('encoder.pkl')\n",
    "scaler = joblib.load('scaler.pkl')\n",
    "\n",
    "def predict(Gender, Age, Urea, Cr, HbA1c, Chol, TG, HDL, LDL, VLDL, BMI):\n",
    "    try:\n",
    "        data = {\n",
    "            'Gender': Gender,\n",
    "            'Age': Age,\n",
    "            'Urea': Urea,\n",
    "            'Cr': Cr,\n",
    "            'HbA1c': HbA1c,\n",
    "            'Chol': Chol,\n",
    "            'TG': TG,\n",
    "            'HDL': HDL,\n",
    "            'LDL': LDL,\n",
    "            'VLDL': VLDL,\n",
    "            'BMI': BMI\n",
    "        }\n",
    "        \n",
    "        df = pd.DataFrame([data])\n",
    "        scaled_features = scaler.transform(df)\n",
    "        prediction = model.predict(scaled_features)\n",
    "        return f\"Class {prediction[0]}\"\n",
    "    except Exception as e:\n",
    "        return f\"Error: {str(e)}\"\n",
    "\n",
    "with gr.Blocks() as interface:\n",
    "    gr.Markdown(\"# Health Risk Prediction\")\n",
    "    \n",
    "    with gr.Row():\n",
    "        Gender = gr.Radio(choices=[0, 1], label=\"Gender (0=F, 1=M)\")\n",
    "        Age = gr.Number(label=\"Age\", minimum=0)\n",
    "        Urea = gr.Number(label=\"Urea\")\n",
    "        Cr = gr.Number(label=\"Cr\")\n",
    "    \n",
    "    with gr.Row():\n",
    "        HbA1c = gr.Number(label=\"HbA1c\")\n",
    "        Chol = gr.Number(label=\"Cholesterol\")\n",
    "        TG = gr.Number(label=\"Triglycerides\")\n",
    "        HDL = gr.Number(label=\"HDL\")\n",
    "    \n",
    "    with gr.Row():\n",
    "        LDL = gr.Number(label=\"LDL\")\n",
    "        VLDL = gr.Number(label=\"VLDL\")\n",
    "        BMI = gr.Number(label=\"BMI\")\n",
    "    \n",
    "    predict_btn = gr.Button(\"Predict\")\n",
    "    output = gr.Textbox(label=\"Prediction Result\")\n",
    "    \n",
    "    predict_btn.click(\n",
    "        fn=predict,\n",
    "        inputs=[Gender, Age, Urea, Cr, HbA1c, Chol, TG, HDL, LDL, VLDL, BMI],\n",
    "        outputs=output\n",
    "    )\n",
    "\n",
    "interface.launch()"
   ]
  },
  {
   "cell_type": "code",
   "execution_count": null,
   "id": "1761897f-74f8-43d9-a40e-08e2359550ca",
   "metadata": {},
   "outputs": [],
   "source": []
  }
 ],
 "metadata": {
  "kernelspec": {
   "display_name": "Python 3 (ipykernel)",
   "language": "python",
   "name": "python3"
  },
  "language_info": {
   "codemirror_mode": {
    "name": "ipython",
    "version": 3
   },
   "file_extension": ".py",
   "mimetype": "text/x-python",
   "name": "python",
   "nbconvert_exporter": "python",
   "pygments_lexer": "ipython3",
   "version": "3.12.7"
  }
 },
 "nbformat": 4,
 "nbformat_minor": 5
}
